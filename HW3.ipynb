{
 "cells": [
  {
   "cell_type": "markdown",
   "metadata": {},
   "source": [
    "# Homework 3"
   ]
  },
  {
   "cell_type": "markdown",
   "metadata": {},
   "source": [
    "## Face Recognition Using SVM:"
   ]
  },
  {
   "cell_type": "code",
   "execution_count": 1,
   "metadata": {
    "collapsed": true
   },
   "outputs": [],
   "source": [
    "# Importing libraries and packages:\n",
    "\n",
    "from sklearn.neural_network import MLPClassifier\n",
    "from sklearn.model_selection import GridSearchCV\n",
    "from sklearn import metrics\n",
    "\n",
    "from sklearn.model_selection import train_test_split\n",
    "from sklearn.model_selection import cross_val_score\n",
    "from sklearn.metrics import accuracy_score\n",
    "from sklearn import metrics\n",
    "import matplotlib.image as mpimg\n",
    "import matplotlib.pyplot as plt\n",
    "import numpy as np\n",
    "import pandas as pd\n",
    "\n",
    "%matplotlib inline"
   ]
  },
  {
   "cell_type": "markdown",
   "metadata": {},
   "source": [
    "### a- Download the dataset \"Face\""
   ]
  },
  {
   "cell_type": "code",
   "execution_count": 2,
   "metadata": {},
   "outputs": [
    {
     "data": {
      "text/html": [
       "<div>\n",
       "<style>\n",
       "    .dataframe thead tr:only-child th {\n",
       "        text-align: right;\n",
       "    }\n",
       "\n",
       "    .dataframe thead th {\n",
       "        text-align: left;\n",
       "    }\n",
       "\n",
       "    .dataframe tbody tr th {\n",
       "        vertical-align: top;\n",
       "    }\n",
       "</style>\n",
       "<table border=\"1\" class=\"dataframe\">\n",
       "  <thead>\n",
       "    <tr style=\"text-align: right;\">\n",
       "      <th></th>\n",
       "      <th>Label</th>\n",
       "    </tr>\n",
       "  </thead>\n",
       "  <tbody>\n",
       "    <tr>\n",
       "      <th>0</th>\n",
       "      <td>13</td>\n",
       "    </tr>\n",
       "    <tr>\n",
       "      <th>1</th>\n",
       "      <td>30</td>\n",
       "    </tr>\n",
       "    <tr>\n",
       "      <th>2</th>\n",
       "      <td>34</td>\n",
       "    </tr>\n",
       "    <tr>\n",
       "      <th>3</th>\n",
       "      <td>19</td>\n",
       "    </tr>\n",
       "    <tr>\n",
       "      <th>4</th>\n",
       "      <td>24</td>\n",
       "    </tr>\n",
       "    <tr>\n",
       "      <th>5</th>\n",
       "      <td>6</td>\n",
       "    </tr>\n",
       "    <tr>\n",
       "      <th>6</th>\n",
       "      <td>15</td>\n",
       "    </tr>\n",
       "    <tr>\n",
       "      <th>7</th>\n",
       "      <td>26</td>\n",
       "    </tr>\n",
       "    <tr>\n",
       "      <th>8</th>\n",
       "      <td>14</td>\n",
       "    </tr>\n",
       "    <tr>\n",
       "      <th>9</th>\n",
       "      <td>21</td>\n",
       "    </tr>\n",
       "    <tr>\n",
       "      <th>10</th>\n",
       "      <td>3</td>\n",
       "    </tr>\n",
       "    <tr>\n",
       "      <th>11</th>\n",
       "      <td>13</td>\n",
       "    </tr>\n",
       "    <tr>\n",
       "      <th>12</th>\n",
       "      <td>11</td>\n",
       "    </tr>\n",
       "    <tr>\n",
       "      <th>13</th>\n",
       "      <td>34</td>\n",
       "    </tr>\n",
       "    <tr>\n",
       "      <th>14</th>\n",
       "      <td>1</td>\n",
       "    </tr>\n",
       "  </tbody>\n",
       "</table>\n",
       "</div>"
      ],
      "text/plain": [
       "    Label\n",
       "0      13\n",
       "1      30\n",
       "2      34\n",
       "3      19\n",
       "4      24\n",
       "5       6\n",
       "6      15\n",
       "7      26\n",
       "8      14\n",
       "9      21\n",
       "10      3\n",
       "11     13\n",
       "12     11\n",
       "13     34\n",
       "14      1"
      ]
     },
     "execution_count": 2,
     "metadata": {},
     "output_type": "execute_result"
    }
   ],
   "source": [
    "# \"read_csv\" is a pandas function to read csv files from web or local device:\n",
    "\n",
    "face_df = pd.read_csv('https://raw.githubusercontent.com/ellipsclamation/cs5661_data_science/master/Datasets/Face/label.csv')\n",
    "\n",
    "# checking the dataset by printing 15 lines:\n",
    "face_df.head(15)"
   ]
  },
  {
   "cell_type": "markdown",
   "metadata": {},
   "source": [
    "### Open some of the jpg images"
   ]
  },
  {
   "cell_type": "code",
   "execution_count": 3,
   "metadata": {},
   "outputs": [
    {
     "data": {
      "text/plain": [
       "<matplotlib.image.AxesImage at 0x28e985a2ac8>"
      ]
     },
     "execution_count": 3,
     "metadata": {},
     "output_type": "execute_result"
    },
    {
     "data": {
      "image/png": "[encoded data removed]",
      "text/plain": [
       "<matplotlib.figure.Figure at 0x28e984db400>"
      ]
     },
     "metadata": {},
     "output_type": "display_data"
    }
   ],
   "source": [
    "path = '.\\\\Datasets\\\\Face\\\\'\n",
    "file_name = path + '0.jpg'\n",
    "\n",
    "image = mpimg.imread(file_name)\n",
    "plt.imshow(image, cmap=plt.cm.gray)"
   ]
  },
  {
   "cell_type": "code",
   "execution_count": 4,
   "metadata": {},
   "outputs": [
    {
     "data": {
      "text/plain": [
       "<matplotlib.image.AxesImage at 0x28e988c61d0>"
      ]
     },
     "execution_count": 4,
     "metadata": {},
     "output_type": "execute_result"
    },
    {
     "data": {
      "image/png": "[encoded data removed]",
      "text/plain": [
       "<matplotlib.figure.Figure at 0x28e9883a048>"
      ]
     },
     "metadata": {},
     "output_type": "display_data"
    }
   ],
   "source": [
    "file_name = path + '11.jpg'\n",
    "\n",
    "image2 = mpimg.imread(file_name)\n",
    "plt.imshow(image2, cmap=plt.cm.gray)"
   ]
  },
  {
   "cell_type": "markdown",
   "metadata": {},
   "source": [
    "### b- Build the feature matrix and label vector\n",
    "Each image is considered as a data sample with\n",
    "pixels as features. Thus, to build the feature table you have to convert each 64x64 image into\n",
    "a row of the feature matrix with 4096 columns."
   ]
  },
  {
   "cell_type": "code",
   "execution_count": 5,
   "metadata": {},
   "outputs": [
    {
     "name": "stdout",
     "output_type": "stream",
     "text": [
      "(400, 4096)\n",
      "[[186 183 179 ...,   9   3   5]\n",
      " [204 198 194 ..., 120 164 167]\n",
      " [ 86  79  82 ..., 189 185 141]\n",
      " ..., \n",
      " [163 177 193 ...,  44  48  53]\n",
      " [145 147 151 ..., 132 114 117]\n",
      " [ 91  74  66 ...,  75  44  46]]\n"
     ]
    }
   ],
   "source": [
    "feature_matrix = []\n",
    "\n",
    "for filename in range(0, face_df.size):\n",
    "    image = mpimg.imread(path + str(filename) + '.jpg')\n",
    "    feature_matrix.append(image.flatten())\n",
    "    \n",
    "feature_matrix = np.asarray(feature_matrix)\n",
    "print(feature_matrix.shape)\n",
    "print(feature_matrix)"
   ]
  },
  {
   "cell_type": "markdown",
   "metadata": {},
   "source": [
    "### c- Normalize each column of your feature matrix"
   ]
  },
  {
   "cell_type": "code",
   "execution_count": 6,
   "metadata": {},
   "outputs": [
    {
     "name": "stdout",
     "output_type": "stream",
     "text": [
      "[[ 1.37649641  1.11885303  0.79610373 ..., -1.17094622 -1.24726506\n",
      "  -1.21711982]\n",
      " [ 1.68113398  1.3654141   1.03570156 ...,  0.68710075  1.48558299\n",
      "   1.58234648]\n",
      " [-0.31593455 -0.59063704 -0.75329558 ...,  1.84210291  1.84204144\n",
      "   1.13304942]\n",
      " ..., \n",
      " [ 0.98723729  1.02022861  1.01972837 ..., -0.58507555 -0.48342554\n",
      "  -0.38764832]\n",
      " [ 0.68259971  0.52710647  0.34885444 ...,  0.88797069  0.63687242\n",
      "   0.71831368]\n",
      " [-0.231313   -0.67282406 -1.0088666  ..., -0.06616154 -0.55132239\n",
      "  -0.50861291]]\n"
     ]
    },
    {
     "name": "stderr",
     "output_type": "stream",
     "text": [
      "D:\\_programming\\Anaconda3\\lib\\site-packages\\sklearn\\utils\\validation.py:475: DataConversionWarning: Data with input dtype uint8 was converted to float64 by the scale function.\n",
      "  warnings.warn(msg, DataConversionWarning)\n"
     ]
    }
   ],
   "source": [
    "# normalized_feature_matrix = feature_matrix / feature_matrix.max(axis=0)\n",
    "# print(normalized_feature_matrix)\n",
    "\n",
    "from sklearn import preprocessing\n",
    "normalized_feature_matrix = preprocessing.scale(feature_matrix)\n",
    "print(normalized_feature_matrix)"
   ]
  },
  {
   "cell_type": "markdown",
   "metadata": {},
   "source": [
    "### d- Use sklearn functions to split the Normalized dataset into testing and training sets with the following parameters:\n",
    "- test_size=0.25\n",
    "- random_state=5."
   ]
  },
  {
   "cell_type": "code",
   "execution_count": 7,
   "metadata": {},
   "outputs": [],
   "source": [
    "# Select features from the normalized np array\n",
    "X = normalized_feature_matrix\n",
    "\n",
    "# Select label from the dataframe\n",
    "y = face_df['Label']"
   ]
  },
  {
   "cell_type": "code",
   "execution_count": 8,
   "metadata": {},
   "outputs": [
    {
     "name": "stdout",
     "output_type": "stream",
     "text": [
      "(300, 4096)\n",
      "(300,)\n",
      "(100, 4096)\n",
      "(100,)\n"
     ]
    }
   ],
   "source": [
    "# Randomly splitting the original dataset into training set and testing set:\n",
    "X_train, X_test, y_train, y_test = train_test_split(X, y, test_size=0.25, random_state=5)\n",
    "\n",
    "# print the size of the traning set:\n",
    "print(X_train.shape)\n",
    "print(y_train.shape)\n",
    "\n",
    "# print the size of the testing set:\n",
    "print(X_test.shape)\n",
    "print(y_test.shape)"
   ]
  },
  {
   "cell_type": "markdown",
   "metadata": {},
   "source": [
    "### e- The dimensionality of the data samples is 4096. Use PCA to reduce the dimensionality from 4096 to 50.\n",
    "You should \"fit\" your PCA on your training set only, and then use this fitted model to \"transform\" both training and testing sets"
   ]
  },
  {
   "cell_type": "code",
   "execution_count": 9,
   "metadata": {},
   "outputs": [],
   "source": [
    "from sklearn.decomposition import PCA\n",
    "k = 50 # (k is the number of components (new features) after dimensionality reduction)\n",
    "my_pca = PCA(n_components = k)\n",
    "# X_train is feature matrix of training set before dimensionality reduction,\n",
    "# X_train_New is feature matrix of training set after dimensionality reduction:\n",
    "X_train_new = my_pca. fit_transform(X_train)\n",
    "X_test_new = my_pca. transform(X_test)"
   ]
  },
  {
   "cell_type": "markdown",
   "metadata": {},
   "source": [
    "### f- Design and Train a non-linear SVM classifier to recognize the face based on the training dataset\n",
    "Use\n",
    "- SVC(C=1, kernel='rbf', gamma=0.0005, random_state=1)\n",
    "\n",
    "Then, test your SVM on testing set and calculate and report the accuraccy. Also, calculate and report the confusion matrix."
   ]
  },
  {
   "cell_type": "code",
   "execution_count": 10,
   "metadata": {
    "collapsed": true
   },
   "outputs": [],
   "source": [
    "from sklearn.svm import SVC\n",
    "\n",
    "my_SVC = SVC(C=1, kernel='rbf', gamma=0.0005, random_state=1)"
   ]
  },
  {
   "cell_type": "markdown",
   "metadata": {},
   "source": [
    "#### Training Stage: Training a predictive model using the training dataset:"
   ]
  },
  {
   "cell_type": "code",
   "execution_count": 11,
   "metadata": {},
   "outputs": [
    {
     "data": {
      "text/plain": [
       "SVC(C=1, cache_size=200, class_weight=None, coef0=0.0,\n",
       "  decision_function_shape='ovr', degree=3, gamma=0.0005, kernel='rbf',\n",
       "  max_iter=-1, probability=False, random_state=1, shrinking=True,\n",
       "  tol=0.001, verbose=False)"
      ]
     },
     "execution_count": 11,
     "metadata": {},
     "output_type": "execute_result"
    }
   ],
   "source": [
    "# Training ONLY on the training set:\n",
    "my_SVC.fit(X_train_new, y_train)"
   ]
  },
  {
   "cell_type": "markdown",
   "metadata": {},
   "source": [
    "#### Testing (Prediction) Stage: Making prediction on new observations (Testing Data) using the trained model:"
   ]
  },
  {
   "cell_type": "code",
   "execution_count": 12,
   "metadata": {},
   "outputs": [
    {
     "name": "stdout",
     "output_type": "stream",
     "text": [
      "[16 32 39 22 29 38 21 12 23 28  9 13 29 21 10  1 36 11 39 25  8 26 19 12 35\n",
      "  7 21 20  8 14  7 33 23  0 20  1 38 25  8 23 39  2 10 13 38 25 26 18  4 36\n",
      " 26 17 13 16 38 36  4 36  5  6 14  9 13  7  9 22  6  6 24  0  4 31 31 37 14\n",
      " 22 16 34 11 15 15  0  2 25  5 34 11 18 22 11 12  1 16 24 36 33 32 13 38 20]\n"
     ]
    }
   ],
   "source": [
    "# Testing on the testing set:\n",
    "y_predict_SVC = my_SVC.predict(X_test_new)\n",
    "print(y_predict_SVC)"
   ]
  },
  {
   "cell_type": "markdown",
   "metadata": {},
   "source": [
    "#### Accuracy Evaluation:"
   ]
  },
  {
   "cell_type": "code",
   "execution_count": 13,
   "metadata": {},
   "outputs": [
    {
     "name": "stdout",
     "output_type": "stream",
     "text": [
      "0.91\n"
     ]
    }
   ],
   "source": [
    "# We can now compare the \"predicted labels\" for the Testing Set with its \"actual labels\" to evaluate the accuracy \n",
    "\n",
    "score_SVC = accuracy_score(y_test, y_predict_SVC)\n",
    "print(score_SVC)"
   ]
  },
  {
   "cell_type": "markdown",
   "metadata": {},
   "source": [
    "#### Confusion Matrix"
   ]
  },
  {
   "cell_type": "code",
   "execution_count": 14,
   "metadata": {},
   "outputs": [
    {
     "name": "stdout",
     "output_type": "stream",
     "text": [
      "Confusion matrix:\n",
      "[[3 0 0 ..., 0 0 0]\n",
      " [0 3 0 ..., 0 0 0]\n",
      " [0 0 1 ..., 0 0 0]\n",
      " ..., \n",
      " [0 0 0 ..., 0 0 0]\n",
      " [0 0 0 ..., 0 4 0]\n",
      " [0 0 0 ..., 0 0 1]]\n"
     ]
    }
   ],
   "source": [
    "cm_SVC = metrics.confusion_matrix(y_test, y_predict_SVC)\n",
    "\n",
    "print(\"Confusion matrix:\")\n",
    "print(cm_SVC)"
   ]
  },
  {
   "cell_type": "markdown",
   "metadata": {},
   "source": [
    "### g- Now use GridSearchCV to find the best value for parameter C in your SVM\n",
    "search this list\n",
    "- [0.1, 1, 10, 100, 1e3, 5e3, 1e4, 5e4, 1e5]\n",
    "\n",
    "Remember that we want to use cross-validation method (GridSearchCV) to find the best C.\n",
    "\n",
    "Thus, you can again merge X_train_new and X_test_new (after dimensionality reduction), and also merge y_train and y_test, and then use GridSearchCV with 10-fold cross validation to find C."
   ]
  },
  {
   "cell_type": "code",
   "execution_count": 15,
   "metadata": {},
   "outputs": [
    {
     "name": "stdout",
     "output_type": "stream",
     "text": [
      "best accuracy: 0.965000\n",
      "best C: {'C': 10}\n"
     ]
    }
   ],
   "source": [
    "param_grid = dict(C = [0.1, 1, 10, 100, 1e3, 5e3, 1e4, 5e4, 1e5])\n",
    "\n",
    "# create the grid, and define the metric for evaluating the model:\n",
    "grid = GridSearchCV(SVC(kernel='rbf', gamma=0.0005, random_state=1), param_grid, cv=10, scoring='accuracy')\n",
    "\n",
    "# fit the grid (start the grid search):\n",
    "grid.fit(X, y)\n",
    "\n",
    "# view the best results corresponding to the best C in SVC:\n",
    "print('best accuracy: %f' % (grid.best_score_))\n",
    "print('best C: %s' % (grid.best_params_))"
   ]
  }
 ],
 "metadata": {
  "kernelspec": {
   "display_name": "Python 3",
   "language": "python",
   "name": "python3"
  },
  "language_info": {
   "codemirror_mode": {
    "name": "ipython",
    "version": 3
   },
   "file_extension": ".py",
   "mimetype": "text/x-python",
   "name": "python",
   "nbconvert_exporter": "python",
   "pygments_lexer": "ipython3",
   "version": "3.6.5"
  }
 },
 "nbformat": 4,
 "nbformat_minor": 2
}
