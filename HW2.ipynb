{
 "cells": [
  {
   "cell_type": "markdown",
   "metadata": {},
   "source": [
    "# Homework 2"
   ]
  },
  {
   "cell_type": "markdown",
   "metadata": {},
   "source": [
    "## Question2: Handwriting Recognition Using ANN:"
   ]
  },
  {
   "cell_type": "code",
   "execution_count": 1,
   "metadata": {
    "collapsed": true
   },
   "outputs": [],
   "source": [
    "# Importing libraries and packages:\n",
    "\n",
    "from sklearn.neural_network import MLPClassifier\n",
    "from sklearn.model_selection import GridSearchCV\n",
    "from sklearn import metrics\n",
    "\n",
    "from sklearn.model_selection import train_test_split\n",
    "from sklearn.model_selection import cross_val_score\n",
    "from sklearn.metrics import accuracy_score\n",
    "from sklearn import metrics\n",
    "import matplotlib.image as mpimg\n",
    "import matplotlib.pyplot as plt\n",
    "import numpy as np\n",
    "import pandas as pd"
   ]
  },
  {
   "cell_type": "markdown",
   "metadata": {},
   "source": [
    "### a- Download the dataset \"Digit\". Check out the dataset"
   ]
  },
  {
   "cell_type": "markdown",
   "metadata": {},
   "source": [
    "#### Set up Feature Matrix and Label Vector"
   ]
  },
  {
   "cell_type": "code",
   "execution_count": 2,
   "metadata": {},
   "outputs": [
    {
     "data": {
      "text/html": [
       "<div>\n",
       "<style>\n",
       "    .dataframe thead tr:only-child th {\n",
       "        text-align: right;\n",
       "    }\n",
       "\n",
       "    .dataframe thead th {\n",
       "        text-align: left;\n",
       "    }\n",
       "\n",
       "    .dataframe tbody tr th {\n",
       "        vertical-align: top;\n",
       "    }\n",
       "</style>\n",
       "<table border=\"1\" class=\"dataframe\">\n",
       "  <thead>\n",
       "    <tr style=\"text-align: right;\">\n",
       "      <th></th>\n",
       "      <th>name of the file</th>\n",
       "      <th>digit</th>\n",
       "    </tr>\n",
       "  </thead>\n",
       "  <tbody>\n",
       "    <tr>\n",
       "      <th>0</th>\n",
       "      <td>0</td>\n",
       "      <td>0</td>\n",
       "    </tr>\n",
       "    <tr>\n",
       "      <th>1</th>\n",
       "      <td>1</td>\n",
       "      <td>1</td>\n",
       "    </tr>\n",
       "    <tr>\n",
       "      <th>2</th>\n",
       "      <td>2</td>\n",
       "      <td>2</td>\n",
       "    </tr>\n",
       "    <tr>\n",
       "      <th>3</th>\n",
       "      <td>3</td>\n",
       "      <td>3</td>\n",
       "    </tr>\n",
       "    <tr>\n",
       "      <th>4</th>\n",
       "      <td>4</td>\n",
       "      <td>4</td>\n",
       "    </tr>\n",
       "    <tr>\n",
       "      <th>5</th>\n",
       "      <td>5</td>\n",
       "      <td>5</td>\n",
       "    </tr>\n",
       "    <tr>\n",
       "      <th>6</th>\n",
       "      <td>6</td>\n",
       "      <td>6</td>\n",
       "    </tr>\n",
       "    <tr>\n",
       "      <th>7</th>\n",
       "      <td>7</td>\n",
       "      <td>7</td>\n",
       "    </tr>\n",
       "    <tr>\n",
       "      <th>8</th>\n",
       "      <td>8</td>\n",
       "      <td>8</td>\n",
       "    </tr>\n",
       "    <tr>\n",
       "      <th>9</th>\n",
       "      <td>9</td>\n",
       "      <td>9</td>\n",
       "    </tr>\n",
       "    <tr>\n",
       "      <th>10</th>\n",
       "      <td>10</td>\n",
       "      <td>0</td>\n",
       "    </tr>\n",
       "    <tr>\n",
       "      <th>11</th>\n",
       "      <td>11</td>\n",
       "      <td>1</td>\n",
       "    </tr>\n",
       "    <tr>\n",
       "      <th>12</th>\n",
       "      <td>12</td>\n",
       "      <td>2</td>\n",
       "    </tr>\n",
       "    <tr>\n",
       "      <th>13</th>\n",
       "      <td>13</td>\n",
       "      <td>3</td>\n",
       "    </tr>\n",
       "    <tr>\n",
       "      <th>14</th>\n",
       "      <td>14</td>\n",
       "      <td>4</td>\n",
       "    </tr>\n",
       "  </tbody>\n",
       "</table>\n",
       "</div>"
      ],
      "text/plain": [
       "    name of the file  digit\n",
       "0                  0      0\n",
       "1                  1      1\n",
       "2                  2      2\n",
       "3                  3      3\n",
       "4                  4      4\n",
       "5                  5      5\n",
       "6                  6      6\n",
       "7                  7      7\n",
       "8                  8      8\n",
       "9                  9      9\n",
       "10                10      0\n",
       "11                11      1\n",
       "12                12      2\n",
       "13                13      3\n",
       "14                14      4"
      ]
     },
     "execution_count": 2,
     "metadata": {},
     "output_type": "execute_result"
    }
   ],
   "source": [
    "# \"read_csv\" is a pandas function to read csv files from web or local device:\n",
    "\n",
    "digit_df = pd.read_csv('https://raw.githubusercontent.com/ellipsclamation/cs5661_data_science/master/Datasets/label.csv')\n",
    "\n",
    "# checking the dataset by printing 15 lines:\n",
    "digit_df.head(15)"
   ]
  },
  {
   "cell_type": "markdown",
   "metadata": {},
   "source": [
    "### b- Build the feature matrix and label vector:\n",
    "Each image is considered as a data sample with pixels as features.\n",
    "Thus, to build the feature table you have to convert each 8x8 image\n",
    "into a row of the feature matrix with 64 feature columns for 64 pixels."
   ]
  },
  {
   "cell_type": "code",
   "execution_count": 3,
   "metadata": {},
   "outputs": [
    {
     "name": "stdout",
     "output_type": "stream",
     "text": [
      "(1797, 64)\n"
     ]
    }
   ],
   "source": [
    "# Create a numpy array with values of each pixel from images as features\n",
    "path = '.\\\\Datasets\\\\Digit\\\\'\n",
    "\n",
    "feature_matrix = []\n",
    "\n",
    "for filename in digit_df['name of the file']:\n",
    "    image = mpimg.imread(path + str(filename) + '.jpg')\n",
    "    feature_matrix.append(image.flatten())\n",
    "    \n",
    "feature_matrix = np.asarray(feature_matrix)\n",
    "print(feature_matrix.shape)"
   ]
  },
  {
   "cell_type": "markdown",
   "metadata": {},
   "source": [
    "Add feature matrix and label vector to dataframe"
   ]
  },
  {
   "cell_type": "code",
   "execution_count": 4,
   "metadata": {},
   "outputs": [
    {
     "name": "stdout",
     "output_type": "stream",
     "text": [
      "   name of the file  0  1    2    3    4    5   6  7   8  ...    55  56  57  \\\n",
      "0                 0  0  2   88  217  158   21   0  0  16  ...     0   4   3   \n",
      "1                 1  0  0   11  187  210   78   5  0  13  ...     0   0   0   \n",
      "2                 2  0  0    5   59  240  199   2  0   5  ...     0   0  11   \n",
      "3                 3  6  0  108  255  213   13  10  0   2  ...     1   0   0   \n",
      "4                 4  0  6    0   34  160    7   7  0   5  ...     0   0   0   \n",
      "\n",
      "    58   59   60   61   62  63  digit  \n",
      "0   87  228  182    0    9   2      0  \n",
      "1    0  172  251  157    0  12      1  \n",
      "2    0   54  173  255  138   0      2  \n",
      "3  118  217  226  159    0   3      3  \n",
      "4    2   42  250   51    0   4      4  \n",
      "\n",
      "[5 rows x 66 columns]\n"
     ]
    }
   ],
   "source": [
    "# Add feature matrix and label vector to dataframe\n",
    "digit_df = digit_df.join(pd.DataFrame(feature_matrix))\n",
    "\n",
    "# Re-organize dataframe\n",
    "cols = list(digit_df.columns.values)\n",
    "cols.append(cols.pop(1))\n",
    "digit_df = digit_df[cols]\n",
    "\n",
    "print(digit_df.head())"
   ]
  },
  {
   "cell_type": "markdown",
   "metadata": {},
   "source": [
    "### c- Use sklearn functions to split the dataset into testing and training sets with the following parameters:\n",
    "- test_size=0.1\n",
    "- random_state=2."
   ]
  },
  {
   "cell_type": "code",
   "execution_count": 5,
   "metadata": {
    "collapsed": true
   },
   "outputs": [],
   "source": [
    "# Select features from the dataframe\n",
    "# Excluding the name of the file\n",
    "X = digit_df[cols[1:-1]]\n",
    "\n",
    "# Select label from the dataframe\n",
    "y = digit_df[cols[-1]]"
   ]
  },
  {
   "cell_type": "markdown",
   "metadata": {},
   "source": [
    "#### Splitting the dataset"
   ]
  },
  {
   "cell_type": "code",
   "execution_count": 6,
   "metadata": {},
   "outputs": [
    {
     "name": "stdout",
     "output_type": "stream",
     "text": [
      "(1617, 64)\n",
      "(1617,)\n",
      "(180, 64)\n",
      "(180,)\n"
     ]
    }
   ],
   "source": [
    "# Randomly splitting the original dataset into training set and testing set:\n",
    "X_train, X_test, y_train, y_test = train_test_split(X, y, test_size=0.1, random_state=2)\n",
    "\n",
    "# print the size of the traning set:\n",
    "print(X_train.shape)\n",
    "print(y_train.shape)\n",
    "\n",
    "# print the size of the testing set:\n",
    "print(X_test.shape)\n",
    "print(y_test.shape)"
   ]
  },
  {
   "cell_type": "markdown",
   "metadata": {},
   "source": [
    "### d- Design and Train an ANN with one hidden layer with 80 neurons to recognize the digits based on the training dataset that you built in part (c).\n",
    "- Use random_state=1, learning_rate_init = 0.002.\n",
    "- Then, Test your ANN on testing set (from part(c)), and calculate and report the accuracy.\n",
    "- Also, calculate and report the Confusion Matrix."
   ]
  },
  {
   "cell_type": "markdown",
   "metadata": {},
   "source": [
    "# ANN Classifier"
   ]
  },
  {
   "cell_type": "code",
   "execution_count": 7,
   "metadata": {},
   "outputs": [],
   "source": [
    "# \"my_ANN\" is instantiated as an \"object\" of MLPClassifier \"class\". \n",
    "# hidden_layer_sizes: The ith element represents the number of neurons in the ith hidden layer.\n",
    "# learning_rate_init: learning rate.\n",
    "\n",
    "# 1 Hidden Layer with 80 neurons:\n",
    "my_ANN = MLPClassifier(hidden_layer_sizes=(80,),\n",
    "                       activation= 'logistic',\n",
    "                       solver='adam', alpha=1e-5, random_state=1,\n",
    "                       learning_rate_init = 0.002)"
   ]
  },
  {
   "cell_type": "markdown",
   "metadata": {},
   "source": [
    "#### Training Stage: Training a predictive model using the training dataset:"
   ]
  },
  {
   "cell_type": "code",
   "execution_count": 8,
   "metadata": {},
   "outputs": [
    {
     "data": {
      "text/plain": [
       "MLPClassifier(activation='logistic', alpha=1e-05, batch_size='auto',\n",
       "       beta_1=0.9, beta_2=0.999, early_stopping=False, epsilon=1e-08,\n",
       "       hidden_layer_sizes=(80,), learning_rate='constant',\n",
       "       learning_rate_init=0.002, max_iter=200, momentum=0.9,\n",
       "       nesterovs_momentum=True, power_t=0.5, random_state=1, shuffle=True,\n",
       "       solver='adam', tol=0.0001, validation_fraction=0.1, verbose=False,\n",
       "       warm_start=False)"
      ]
     },
     "execution_count": 8,
     "metadata": {},
     "output_type": "execute_result"
    }
   ],
   "source": [
    "# Training ONLY on the training set:\n",
    "my_ANN.fit(X_train, y_train)"
   ]
  },
  {
   "cell_type": "markdown",
   "metadata": {},
   "source": [
    "#### Testing (Prediction) Stage: Making prediction on new observations (Testing Data) using the trained model:"
   ]
  },
  {
   "cell_type": "code",
   "execution_count": 9,
   "metadata": {},
   "outputs": [
    {
     "name": "stdout",
     "output_type": "stream",
     "text": [
      "[4 0 9 1 8 7 1 5 1 6 6 7 6 1 5 5 9 6 2 7 4 6 4 1 5 2 9 5 4 6 5 6 3 4 0 9 9\n",
      " 8 4 6 8 1 5 7 9 6 9 6 1 3 0 1 9 7 3 3 1 1 8 8 9 8 5 8 7 8 3 5 8 4 3 9 3 8\n",
      " 7 3 3 0 8 7 2 8 5 3 8 7 6 4 6 2 2 0 1 1 5 3 5 7 1 8 2 2 6 4 6 7 3 7 3 9 4\n",
      " 7 0 3 5 1 5 0 3 9 2 7 3 2 0 8 1 9 2 1 5 9 0 3 4 3 0 8 3 2 2 7 3 1 6 7 2 8\n",
      " 3 1 1 6 4 8 2 1 8 4 8 3 1 1 9 5 4 3 7 4 8 9 5 7 6 9 4 0 4 0 0 9]\n"
     ]
    }
   ],
   "source": [
    "# Testing on the testing set:\n",
    "y_predict_ann = my_ANN.predict(X_test)\n",
    "print(y_predict_ann)"
   ]
  },
  {
   "cell_type": "markdown",
   "metadata": {},
   "source": [
    "#### Accuracy Evaluation:"
   ]
  },
  {
   "cell_type": "code",
   "execution_count": 10,
   "metadata": {},
   "outputs": [
    {
     "name": "stdout",
     "output_type": "stream",
     "text": [
      "0.911111111111\n"
     ]
    }
   ],
   "source": [
    "# We can now compare the \"predicted labels\" for the Testing Set with its \"actual labels\" to evaluate the accuracy \n",
    "\n",
    "score_ann = accuracy_score(y_test, y_predict_ann)\n",
    "print(score_ann)"
   ]
  },
  {
   "cell_type": "markdown",
   "metadata": {},
   "source": [
    "#### Confusion Matrix:"
   ]
  },
  {
   "cell_type": "code",
   "execution_count": 11,
   "metadata": {},
   "outputs": [
    {
     "name": "stdout",
     "output_type": "stream",
     "text": [
      "Confusion matrix:\n",
      "[[13  0  0  0  1  0  0  0  0  0]\n",
      " [ 0 19  0  0  0  0  0  0  1  2]\n",
      " [ 0  0 14  0  0  0  0  0  0  0]\n",
      " [ 0  0  0 22  0  0  0  0  0  0]\n",
      " [ 0  0  0  0 16  0  0  1  2  2]\n",
      " [ 0  0  0  0  0 16  0  0  0  0]\n",
      " [ 0  1  0  0  0  0 17  0  0  0]\n",
      " [ 0  0  0  0  0  0  0 17  1  0]\n",
      " [ 0  2  0  1  0  0  0  0 16  0]\n",
      " [ 0  0  0  0  0  1  0  0  1 14]]\n"
     ]
    }
   ],
   "source": [
    "cm_ANN = metrics.confusion_matrix(y_test, y_predict_ann)\n",
    "\n",
    "print(\"Confusion matrix:\")\n",
    "print(cm_ANN)"
   ]
  },
  {
   "cell_type": "markdown",
   "metadata": {},
   "source": [
    "### e- Now, use GridSearchCV to find the best number of neurons for your 1-hidden layer network.\n",
    "#### Search in the range of 50-200 neurons, and use the following parameters for your NN:\n",
    "- activation='logistic'\n",
    "- solver='adam'\n",
    "- alpha=1e-5\n",
    "- random_state=1\n",
    "- learning_rate_init = 0.002.\n",
    "\n",
    "#### What is the best accuracy, and best number of neurons?"
   ]
  },
  {
   "cell_type": "markdown",
   "metadata": {},
   "source": [
    "# GridSearchCV"
   ]
  },
  {
   "cell_type": "code",
   "execution_count": 12,
   "metadata": {},
   "outputs": [
    {
     "name": "stdout",
     "output_type": "stream",
     "text": [
      "best accuracy: 0.958820\n",
      "best number of neurons: {'hidden_layer_sizes': (165,)}\n"
     ]
    }
   ],
   "source": [
    "# define a range for the \"number of neurons\" in the hidden layer for a network with 1 hidden layer:\n",
    "neuron_number = [(i,) for i in range(50,200)]\n",
    "\n",
    "# create a dictionary for grid parameter:\n",
    "param_grid = dict(hidden_layer_sizes = neuron_number)\n",
    "# print(param_grid,'\\n')\n",
    "\n",
    "# instantiate the model:\n",
    "my_ANN = MLPClassifier(activation='logistic', solver='adam',\n",
    "                       alpha=1e-5, random_state=1,\n",
    "                       learning_rate_init = 0.002)\n",
    "\n",
    "# create the grid, and define the metric for evaluating the model: \n",
    "grid = GridSearchCV(my_ANN, param_grid, cv=10, scoring='accuracy')\n",
    "\n",
    "# fit the grid (start the grid search):\n",
    "grid.fit(X, y)\n",
    "\n",
    "# view the results:\n",
    "#print(grid.cv_results_)\n",
    "\n",
    "# view the best results corresponding to the best structure of ANN:\n",
    "print('best accuracy: %f' % (grid.best_score_))\n",
    "print('best number of neurons: %s' % (grid.best_params_))"
   ]
  }
 ],
 "metadata": {
  "kernelspec": {
   "display_name": "Python 3",
   "language": "python",
   "name": "python3"
  },
  "language_info": {
   "codemirror_mode": {
    "name": "ipython",
    "version": 3
   },
   "file_extension": ".py",
   "mimetype": "text/x-python",
   "name": "python",
   "nbconvert_exporter": "python",
   "pygments_lexer": "ipython3",
   "version": "3.6.2"
  }
 },
 "nbformat": 4,
 "nbformat_minor": 2
}
