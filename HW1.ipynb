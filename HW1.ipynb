{
 "cells": [
  {
   "cell_type": "markdown",
   "metadata": {},
   "source": [
    "# Homework 1"
   ]
  },
  {
   "cell_type": "markdown",
   "metadata": {},
   "source": [
    "## a- Read the dataset file \"Cancer.csv\" and store it in a Pandas DataFrame."
   ]
  },
  {
   "cell_type": "code",
   "execution_count": 1,
   "metadata": {
    "collapsed": true
   },
   "outputs": [],
   "source": [
    "# Import Pandas\n",
    "import pandas as pd"
   ]
  },
  {
   "cell_type": "code",
   "execution_count": 2,
   "metadata": {},
   "outputs": [
    {
     "name": "stdout",
     "output_type": "stream",
     "text": [
      "     Clump_Thickness  Uniformity_of_Cell_Size  Uniformity_of_Cell_Shape  \\\n",
      "0                  5                        1                         1   \n",
      "1                  5                        4                         4   \n",
      "2                  3                        1                         1   \n",
      "3                  6                        8                         8   \n",
      "4                  4                        1                         1   \n",
      "5                  8                       10                        10   \n",
      "6                  1                        1                         1   \n",
      "7                  2                        1                         2   \n",
      "8                  2                        1                         1   \n",
      "9                  4                        2                         1   \n",
      "10                 5                        3                         3   \n",
      "11                 8                        7                         5   \n",
      "12                 7                        4                         6   \n",
      "13                10                        7                         7   \n",
      "14                 7                        3                         2   \n",
      "15                10                        5                         5   \n",
      "16                 8                        4                         5   \n",
      "17                 5                        2                         3   \n",
      "18                10                        7                         7   \n",
      "19                10                       10                        10   \n",
      "20                 5                        4                         4   \n",
      "21                 2                        5                         3   \n",
      "22                10                        4                         3   \n",
      "23                 6                       10                        10   \n",
      "24                 5                        6                         5   \n",
      "25                10                       10                        10   \n",
      "26                 3                        7                         7   \n",
      "27                 1                        1                         1   \n",
      "28                 4                        1                         1   \n",
      "29                 7                        8                         7   \n",
      "..               ...                      ...                       ...   \n",
      "120                8                        6                         5   \n",
      "121                5                        8                         7   \n",
      "122                2                        1                         1   \n",
      "123                5                       10                        10   \n",
      "124                4                        1                         1   \n",
      "125                5                        3                         3   \n",
      "126                1                        1                         1   \n",
      "127                1                        1                         1   \n",
      "128                6                        1                         1   \n",
      "129                5                        8                         8   \n",
      "130                8                        7                         6   \n",
      "131                2                        1                         1   \n",
      "132                1                        5                         8   \n",
      "133               10                        5                         6   \n",
      "134                5                        8                         4   \n",
      "135                1                        2                         3   \n",
      "136               10                       10                        10   \n",
      "137                7                        5                        10   \n",
      "138                5                        1                         1   \n",
      "139                1                        1                         1   \n",
      "140                3                        1                         1   \n",
      "141                4                        1                         1   \n",
      "142                8                        4                         4   \n",
      "143                5                        1                         1   \n",
      "144                1                        1                         1   \n",
      "145                3                        1                         1   \n",
      "146                9                        7                         7   \n",
      "147               10                        8                         8   \n",
      "148                1                        1                         1   \n",
      "149                5                        1                         1   \n",
      "\n",
      "     Marginal_Adhesion  Single_Epithelial_Cell_Size  Bare_Nuclei  \\\n",
      "0                    1                            2            1   \n",
      "1                    5                            7           10   \n",
      "2                    1                            2            2   \n",
      "3                    1                            3            4   \n",
      "4                    3                            2            1   \n",
      "5                    8                            7           10   \n",
      "6                    1                            2           10   \n",
      "7                    1                            2            1   \n",
      "8                    1                            2            1   \n",
      "9                    1                            2            1   \n",
      "10                   3                            2            3   \n",
      "11                  10                            7            9   \n",
      "12                   4                            6            1   \n",
      "13                   6                            4           10   \n",
      "14                  10                            5           10   \n",
      "15                   3                            6            7   \n",
      "16                   1                            2            7   \n",
      "17                   4                            2            7   \n",
      "18                   3                            8            5   \n",
      "19                   8                            6            1   \n",
      "20                   9                            2           10   \n",
      "21                   3                            6            7   \n",
      "22                   1                            3            3   \n",
      "23                   2                            8           10   \n",
      "24                   6                           10            1   \n",
      "25                   4                            8            1   \n",
      "26                   4                            4            9   \n",
      "27                   1                            2            1   \n",
      "28                   3                            2            1   \n",
      "29                   2                            4            8   \n",
      "..                 ...                          ...          ...   \n",
      "120                  4                            3           10   \n",
      "121                  7                           10           10   \n",
      "122                  1                            2            1   \n",
      "123                  3                            8            1   \n",
      "124                  1                            2            1   \n",
      "125                  3                            6           10   \n",
      "126                  1                            1            1   \n",
      "127                  1                            2            1   \n",
      "128                  1                            2            1   \n",
      "129                  8                            5           10   \n",
      "130                  4                            4           10   \n",
      "131                  1                            1            1   \n",
      "132                  6                            5            8   \n",
      "133                 10                            6           10   \n",
      "134                 10                            5            8   \n",
      "135                  1                            2            1   \n",
      "136                  8                            6            8   \n",
      "137                 10                           10           10   \n",
      "138                  1                            2            1   \n",
      "139                  1                            2            1   \n",
      "140                  1                            2            1   \n",
      "141                  1                            2            1   \n",
      "142                  5                            4            7   \n",
      "143                  4                            2            1   \n",
      "144                  1                            2            1   \n",
      "145                  1                            2            1   \n",
      "146                  5                            5           10   \n",
      "147                  4                           10           10   \n",
      "148                  1                            2            1   \n",
      "149                  1                            2            1   \n",
      "\n",
      "     Bland_Chromatin  Normal_Nucleoli  Mitoses  Malignant_Cancer  \n",
      "0                  3                1        1                 0  \n",
      "1                  3                2        1                 0  \n",
      "2                  3                1        1                 0  \n",
      "3                  3                7        1                 0  \n",
      "4                  3                1        1                 0  \n",
      "5                  9                7        1                 1  \n",
      "6                  3                1        1                 0  \n",
      "7                  3                1        1                 0  \n",
      "8                  1                1        5                 0  \n",
      "9                  2                1        1                 0  \n",
      "10                 4                4        1                 1  \n",
      "11                 5                5        4                 1  \n",
      "12                 4                3        1                 1  \n",
      "13                 4                1        2                 1  \n",
      "14                 5                4        4                 1  \n",
      "15                 7               10        1                 1  \n",
      "16                 7                3        1                 1  \n",
      "17                 3                6        1                 1  \n",
      "18                 7                4        3                 1  \n",
      "19                 8                9        1                 1  \n",
      "20                 5                6        1                 1  \n",
      "21                 7                5        1                 1  \n",
      "22                 6                5        2                 1  \n",
      "23                 7                3        3                 1  \n",
      "24                 3                1        1                 1  \n",
      "25                 8               10        1                 1  \n",
      "26                 4                8        1                 1  \n",
      "27                 2                1        1                 0  \n",
      "28                 3                1        1                 0  \n",
      "29                 3                8        2                 1  \n",
      "..               ...              ...      ...               ...  \n",
      "120                6                1        1                 1  \n",
      "121                5                7        1                 1  \n",
      "122                3                1        1                 0  \n",
      "123                5               10        3                 1  \n",
      "124                3                1        1                 0  \n",
      "125                3                1        1                 1  \n",
      "126                3                1        1                 0  \n",
      "127                1                1        1                 0  \n",
      "128                3                1        1                 0  \n",
      "129                7                8        1                 1  \n",
      "130                5                1        1                 1  \n",
      "131                3                1        1                 0  \n",
      "132                7               10        1                 1  \n",
      "133                7                7       10                 1  \n",
      "134                9               10        1                 1  \n",
      "135                3                1        1                 0  \n",
      "136                7               10        1                 1  \n",
      "137                4               10        3                 1  \n",
      "138                2                1        1                 0  \n",
      "139                3                1        1                 0  \n",
      "140                3                1        1                 0  \n",
      "141                3                1        1                 0  \n",
      "142                7                8        2                 0  \n",
      "143                3                1        1                 0  \n",
      "144                1                1        1                 0  \n",
      "145                2                1        1                 0  \n",
      "146                7                8        3                 1  \n",
      "147                8                1        1                 1  \n",
      "148                3                1        1                 0  \n",
      "149                3                1        1                 0  \n",
      "\n",
      "[150 rows x 10 columns]\n"
     ]
    }
   ],
   "source": [
    "# Creating an empty dataframe\n",
    "cancer_df = pd.DataFrame()\n",
    "\n",
    "# Reading a CSV file from the web\n",
    "cancer_df = pd.read_csv('https://raw.githubusercontent.com/ellipsclamation/cs5661_data_science/master/Datasets/Cancer_small.csv')\n",
    "\n",
    "print(cancer_df)"
   ]
  },
  {
   "cell_type": "markdown",
   "metadata": {},
   "source": [
    "## b- Use sklearn functions to split the dataset into testing and training sets."
   ]
  },
  {
   "cell_type": "code",
   "execution_count": 3,
   "metadata": {},
   "outputs": [
    {
     "name": "stdout",
     "output_type": "stream",
     "text": [
      "   Clump_Thickness  Uniformity_of_Cell_Size  Uniformity_of_Cell_Shape  \\\n",
      "0                5                        1                         1   \n",
      "1                5                        4                         4   \n",
      "2                3                        1                         1   \n",
      "3                6                        8                         8   \n",
      "4                4                        1                         1   \n",
      "\n",
      "   Marginal_Adhesion  Single_Epithelial_Cell_Size  Bare_Nuclei  \\\n",
      "0                  1                            2            1   \n",
      "1                  5                            7           10   \n",
      "2                  1                            2            2   \n",
      "3                  1                            3            4   \n",
      "4                  3                            2            1   \n",
      "\n",
      "   Bland_Chromatin  Normal_Nucleoli  Mitoses  \n",
      "0                3                1        1  \n",
      "1                3                2        1  \n",
      "2                3                1        1  \n",
      "3                3                7        1  \n",
      "4                3                1        1  \n"
     ]
    }
   ],
   "source": [
    "# Creating the Feature Matrix for cancer dataset:\n",
    "\n",
    "# create a python list of feature names that would like to pick from the dataset:\n",
    "feature_cols = ['Clump_Thickness', 'Uniformity_of_Cell_Size', 'Uniformity_of_Cell_Shape',\n",
    "                'Marginal_Adhesion', 'Single_Epithelial_Cell_Size', 'Bare_Nuclei',\n",
    "                'Bland_Chromatin', 'Normal_Nucleoli', 'Mitoses']\n",
    "\n",
    "# use the above list to select the features from the original DataFrame\n",
    "X = cancer_df[feature_cols]\n",
    "\n",
    "# print the first 5 rows\n",
    "print(X[0:5])"
   ]
  },
  {
   "cell_type": "code",
   "execution_count": 4,
   "metadata": {},
   "outputs": [
    {
     "data": {
      "text/plain": [
       "0      0\n",
       "10     1\n",
       "20     1\n",
       "30     1\n",
       "40     1\n",
       "50     0\n",
       "60     0\n",
       "70     0\n",
       "80     1\n",
       "90     0\n",
       "100    1\n",
       "110    1\n",
       "120    1\n",
       "130    1\n",
       "140    0\n",
       "Name: Malignant_Cancer, dtype: int64"
      ]
     },
     "execution_count": 4,
     "metadata": {},
     "output_type": "execute_result"
    }
   ],
   "source": [
    "# Creating Label column\n",
    "y = cancer_df['Malignant_Cancer']\n",
    "\n",
    "# Test y\n",
    "y[::10]"
   ]
  },
  {
   "cell_type": "code",
   "execution_count": 5,
   "metadata": {},
   "outputs": [
    {
     "name": "stdout",
     "output_type": "stream",
     "text": [
      "     Clump_Thickness  Uniformity_of_Cell_Size  Uniformity_of_Cell_Shape  \\\n",
      "6                  1                        1                         1   \n",
      "3                  6                        8                         8   \n",
      "113                5                        6                         7   \n",
      "12                 7                        4                         6   \n",
      "24                 5                        6                         5   \n",
      "129                5                        8                         8   \n",
      "25                10                       10                        10   \n",
      "108                7                        2                         4   \n",
      "128                6                        1                         1   \n",
      "45                10                        4                         2   \n",
      "48                 8                        3                         8   \n",
      "42                 9                       10                        10   \n",
      "35                10                        6                         6   \n",
      "5                  8                       10                        10   \n",
      "85                 7                        3                         4   \n",
      "54                10                        6                         4   \n",
      "41                 1                        1                         1   \n",
      "96                 8                        3                         3   \n",
      "144                1                        1                         1   \n",
      "89                 6                        5                         4   \n",
      "77                 5                        1                         1   \n",
      "74                 2                        1                         1   \n",
      "115                1                        1                         1   \n",
      "94                 3                        3                         2   \n",
      "87                 1                        6                         8   \n",
      "29                 7                        8                         7   \n",
      "2                  3                        1                         1   \n",
      "127                1                        1                         1   \n",
      "44                 1                        1                         1   \n",
      "125                5                        3                         3   \n",
      "126                1                        1                         1   \n",
      "23                 6                       10                        10   \n",
      "64                 3                        5                         7   \n",
      "117                1                        1                         1   \n",
      "84                10                       10                        10   \n",
      "14                 7                        3                         2   \n",
      "132                1                        5                         8   \n",
      "91                 8                        6                         4   \n",
      "53                 9                        4                         5   \n",
      "141                4                        1                         1   \n",
      "78                 9                        6                         9   \n",
      "97                 4                        5                         5   \n",
      "143                5                        1                         1   \n",
      "93                10                       10                        10   \n",
      "11                 8                        7                         5   \n",
      "\n",
      "     Marginal_Adhesion  Single_Epithelial_Cell_Size  Bare_Nuclei  \\\n",
      "6                    1                            2           10   \n",
      "3                    1                            3            4   \n",
      "113                  8                            8           10   \n",
      "12                   4                            6            1   \n",
      "24                   6                           10            1   \n",
      "129                  8                            5           10   \n",
      "25                   4                            8            1   \n",
      "108                  1                            6           10   \n",
      "128                  1                            2            1   \n",
      "45                   1                            3            2   \n",
      "48                   3                            4            9   \n",
      "42                   1                           10            8   \n",
      "35                   3                            4            5   \n",
      "5                    8                            7           10   \n",
      "85                   4                            3            3   \n",
      "54                   1                            3            4   \n",
      "41                   1                            2            2   \n",
      "96                   1                            2            2   \n",
      "144                  1                            2            1   \n",
      "89                   4                            3            9   \n",
      "77                   1                            2            1   \n",
      "74                   1                            2            1   \n",
      "115                  2                            1            1   \n",
      "94                   1                            2            3   \n",
      "87                  10                            8           10   \n",
      "29                   2                            4            8   \n",
      "2                    1                            2            2   \n",
      "127                  1                            2            1   \n",
      "44                   1                            2            1   \n",
      "125                  3                            6           10   \n",
      "126                  1                            1            1   \n",
      "23                   2                            8           10   \n",
      "64                   8                            8            9   \n",
      "117                  1                            2            1   \n",
      "84                  10                           10            1   \n",
      "14                  10                            5           10   \n",
      "132                  6                            5            8   \n",
      "91                   3                            5            9   \n",
      "53                  10                            6           10   \n",
      "141                  1                            2            1   \n",
      "78                   2                           10            6   \n",
      "97                  10                            4           10   \n",
      "143                  4                            2            1   \n",
      "93                   3                           10            8   \n",
      "11                  10                            7            9   \n",
      "\n",
      "     Bland_Chromatin  Normal_Nucleoli  Mitoses  \n",
      "6                  3                1        1  \n",
      "3                  3                7        1  \n",
      "113                3               10        3  \n",
      "12                 4                3        1  \n",
      "24                 3                1        1  \n",
      "129                7                8        1  \n",
      "25                 8               10        1  \n",
      "108                5                4        3  \n",
      "128                3                1        1  \n",
      "45                 4                3       10  \n",
      "48                 8                9        8  \n",
      "42                 3                3        1  \n",
      "35                 3                6        1  \n",
      "5                  9                7        1  \n",
      "85                 3                2        7  \n",
      "54                 3                2        3  \n",
      "41                 2                1        1  \n",
      "96                 3                2        1  \n",
      "144                1                1        1  \n",
      "89                 7                8        3  \n",
      "77                 3                1        1  \n",
      "74                 3                1        1  \n",
      "115                1                1        1  \n",
      "94                 3                1        1  \n",
      "87                 5                7        1  \n",
      "29                 3                8        2  \n",
      "2                  3                1        1  \n",
      "127                1                1        1  \n",
      "44                 2                1        1  \n",
      "125                3                1        1  \n",
      "126                3                1        1  \n",
      "23                 7                3        3  \n",
      "64                 7               10        7  \n",
      "117                3                1        1  \n",
      "84                 8                8        8  \n",
      "14                 5                4        4  \n",
      "132                7               10        1  \n",
      "91                 3                1        1  \n",
      "53                 4                8        1  \n",
      "141                3                1        1  \n",
      "78                 2                9       10  \n",
      "97                 7                5        8  \n",
      "143                3                1        1  \n",
      "93                 8                1        1  \n",
      "11                 5                5        4  \n",
      "\n",
      "\n",
      "6      0\n",
      "3      0\n",
      "113    1\n",
      "12     1\n",
      "24     1\n",
      "129    1\n",
      "25     1\n",
      "108    1\n",
      "128    0\n",
      "45     1\n",
      "48     1\n",
      "42     1\n",
      "35     1\n",
      "5      1\n",
      "85     1\n",
      "54     1\n",
      "41     0\n",
      "96     0\n",
      "144    0\n",
      "89     1\n",
      "77     0\n",
      "74     0\n",
      "115    0\n",
      "94     0\n",
      "87     1\n",
      "29     1\n",
      "2      0\n",
      "127    0\n",
      "44     0\n",
      "125    1\n",
      "126    0\n",
      "23     1\n",
      "64     1\n",
      "117    0\n",
      "84     1\n",
      "14     1\n",
      "132    1\n",
      "91     1\n",
      "53     1\n",
      "141    0\n",
      "78     1\n",
      "97     1\n",
      "143    0\n",
      "93     1\n",
      "11     1\n",
      "Name: Malignant_Cancer, dtype: int64\n"
     ]
    }
   ],
   "source": [
    "# Picks 30% of data samples for testing set and 70% for training set\n",
    "\n",
    "from sklearn.model_selection import train_test_split\n",
    "\n",
    "X_train, X_test, y_train, y_test = train_test_split(X, y, test_size=0.3, random_state=2)\n",
    "\n",
    "print(X_test)\n",
    "print('\\n')\n",
    "print(y_test)"
   ]
  },
  {
   "cell_type": "markdown",
   "metadata": {},
   "source": [
    "## c- Use \"Decision Tree Classifier\" to predict Cancer based on the training/testing datasets. Then, calculate and report the accuracy of your classifier."
   ]
  },
  {
   "cell_type": "markdown",
   "metadata": {},
   "source": [
    "### Decision Tree"
   ]
  },
  {
   "cell_type": "code",
   "execution_count": 6,
   "metadata": {
    "collapsed": true
   },
   "outputs": [],
   "source": [
    "# Decision Tree\n",
    "from sklearn.tree import DecisionTreeClassifier\n",
    "\n",
    "# \"my_decisiontree\" is instantiated as an \"object\" of DecisionTreeCLassifier \"class\"\n",
    "\n",
    "my_decisiontree = DecisionTreeClassifier(random_state=2)"
   ]
  },
  {
   "cell_type": "markdown",
   "metadata": {},
   "source": [
    "### Training on training set:"
   ]
  },
  {
   "cell_type": "code",
   "execution_count": 7,
   "metadata": {},
   "outputs": [
    {
     "data": {
      "text/plain": [
       "DecisionTreeClassifier(class_weight=None, criterion='gini', max_depth=None,\n",
       "            max_features=None, max_leaf_nodes=None,\n",
       "            min_impurity_decrease=0.0, min_impurity_split=None,\n",
       "            min_samples_leaf=1, min_samples_split=2,\n",
       "            min_weight_fraction_leaf=0.0, presort=False, random_state=2,\n",
       "            splitter='best')"
      ]
     },
     "execution_count": 7,
     "metadata": {},
     "output_type": "execute_result"
    }
   ],
   "source": [
    "# Training only on the training set using the method \"fit\" \n",
    "# of the object along with training dataset and labels to train the model.\n",
    "my_decisiontree.fit(X_train, y_train)"
   ]
  },
  {
   "cell_type": "markdown",
   "metadata": {},
   "source": [
    "### Testing on testing set:"
   ]
  },
  {
   "cell_type": "code",
   "execution_count": 8,
   "metadata": {},
   "outputs": [
    {
     "name": "stdout",
     "output_type": "stream",
     "text": [
      "[0 1 1 1 1 1 1 1 0 0 1 1 1 1 1 1 0 1 0 1 0 0 0 0 0 1 0 0 0 1 0 1 1 0 1 0 0\n",
      " 1 1 0 1 1 0 1 1]\n"
     ]
    }
   ],
   "source": [
    "# Testing on the testing set:\n",
    "y_predict_dt = my_decisiontree.predict(X_test)\n",
    "\n",
    "print(y_predict_dt)"
   ]
  },
  {
   "cell_type": "markdown",
   "metadata": {},
   "source": [
    "### Decision Tree Accuracy Evaluation:"
   ]
  },
  {
   "cell_type": "code",
   "execution_count": 9,
   "metadata": {},
   "outputs": [
    {
     "name": "stdout",
     "output_type": "stream",
     "text": [
      "0.866666666667\n"
     ]
    }
   ],
   "source": [
    "# Importing accuracy_score\n",
    "from sklearn.metrics import accuracy_score\n",
    "\n",
    "accuracy_dt = accuracy_score(y_test, y_predict_dt)\n",
    "\n",
    "print(accuracy_dt)"
   ]
  },
  {
   "cell_type": "markdown",
   "metadata": {},
   "source": [
    "## d- Now, we want to perform \"Bagging\""
   ]
  },
  {
   "cell_type": "code",
   "execution_count": 10,
   "metadata": {
    "collapsed": true
   },
   "outputs": [],
   "source": [
    "# Importing resample\n",
    "from sklearn.utils import resample\n",
    "\n",
    "bootstrap = []\n",
    "\n",
    "n_classifiers = 19\n",
    "bootstrap_size = int(0.8*(len(cancer_df)))\n",
    "\n",
    "# Perform bootstrapping\n",
    "for i in range(n_classifiers):\n",
    "    resample_X_train = resample(X_train, n_samples = bootstrap_size, random_state=i, replace=True)\n",
    "    resample_y_train = resample(y_train, n_samples = bootstrap_size, random_state=i, replace=True)\n",
    "    \n",
    "    Base_DecisionTree = DecisionTreeClassifier(random_state=2)\n",
    "    Base_DecisionTree.fit(resample_X_train, resample_y_train)\n",
    "    \n",
    "    y_predict_dt = Base_DecisionTree.predict(X_test)\n",
    "    \n",
    "    bootstrap.append(y_predict_dt)"
   ]
  },
  {
   "cell_type": "markdown",
   "metadata": {},
   "source": [
    "### Voting"
   ]
  },
  {
   "cell_type": "code",
   "execution_count": 11,
   "metadata": {},
   "outputs": [
    {
     "name": "stdout",
     "output_type": "stream",
     "text": [
      "[0, 1, 1, 1, 1, 1, 1, 1, 0, 0, 1, 1, 1, 1, 1, 0, 0, 1, 0, 1, 0, 0, 0, 0, 0, 1, 0, 0, 0, 1, 0, 1, 1, 0, 1, 0, 0, 0, 1, 0, 1, 1, 0, 1, 1]\n"
     ]
    }
   ],
   "source": [
    "y_predict_vote = []\n",
    "\n",
    "# Transpose bootstrap list\n",
    "t_bootstrap = [list(i) for i in zip(*bootstrap)]\n",
    "\n",
    "# Majority voting\n",
    "for row in t_bootstrap:\n",
    "    count0 = 0\n",
    "    count1 = 0\n",
    "    \n",
    "    for y in row:\n",
    "        if y == 0:\n",
    "            count0 += 1\n",
    "        elif y == 1:\n",
    "            count1 += 1\n",
    "    \n",
    "    if count0 >= count1:\n",
    "        y_predict_vote.append(0)\n",
    "    else:\n",
    "        y_predict_vote.append(1)\n",
    "        \n",
    "print(y_predict_vote)"
   ]
  },
  {
   "cell_type": "markdown",
   "metadata": {},
   "source": [
    "### Voting accuracy evaluation:"
   ]
  },
  {
   "cell_type": "code",
   "execution_count": 12,
   "metadata": {},
   "outputs": [
    {
     "name": "stdout",
     "output_type": "stream",
     "text": [
      "0.822222222222\n"
     ]
    }
   ],
   "source": [
    "accuracy_vote = accuracy_score(y_test, y_predict_vote)\n",
    "\n",
    "print(accuracy_vote)"
   ]
  },
  {
   "cell_type": "markdown",
   "metadata": {},
   "source": [
    "## e- Use scikit-learn \"Adaboost\" classifier to predict Cancer based on the training/testing datasets that you built in part (b). Then, calculate and report the accuracy of your classifier."
   ]
  },
  {
   "cell_type": "markdown",
   "metadata": {},
   "source": [
    "### AdaBoost"
   ]
  },
  {
   "cell_type": "code",
   "execution_count": 13,
   "metadata": {
    "collapsed": true
   },
   "outputs": [],
   "source": [
    "# Importing AdaBoostClassifier\n",
    "from sklearn.ensemble import AdaBoostClassifier\n",
    "\n",
    "my_adaboost = AdaBoostClassifier(n_estimators=19, random_state=2)"
   ]
  },
  {
   "cell_type": "markdown",
   "metadata": {},
   "source": [
    "### Training on training set:"
   ]
  },
  {
   "cell_type": "code",
   "execution_count": 14,
   "metadata": {},
   "outputs": [
    {
     "data": {
      "text/plain": [
       "AdaBoostClassifier(algorithm='SAMME.R', base_estimator=None,\n",
       "          learning_rate=1.0, n_estimators=19, random_state=2)"
      ]
     },
     "execution_count": 14,
     "metadata": {},
     "output_type": "execute_result"
    }
   ],
   "source": [
    "# Training only on the training set using the method \"fit\" \n",
    "# of the object along with training dataset and labels to train the model.\n",
    "my_adaboost.fit(X_train, y_train)"
   ]
  },
  {
   "cell_type": "markdown",
   "metadata": {},
   "source": [
    "### Testing on testing set:"
   ]
  },
  {
   "cell_type": "code",
   "execution_count": 15,
   "metadata": {},
   "outputs": [
    {
     "name": "stdout",
     "output_type": "stream",
     "text": [
      "[0 1 1 1 1 1 1 1 0 0 1 1 1 1 1 1 0 0 0 1 0 0 0 0 1 1 0 0 0 1 0 1 1 0 1 0 1\n",
      " 1 1 0 1 1 0 1 1]\n"
     ]
    }
   ],
   "source": [
    "# Testing on the testing set:\n",
    "y_predict_ab = my_adaboost.predict(X_test)\n",
    "\n",
    "print(y_predict_ab)"
   ]
  },
  {
   "cell_type": "markdown",
   "metadata": {},
   "source": [
    "### AdaBoost accuracy evaluation:"
   ]
  },
  {
   "cell_type": "code",
   "execution_count": 16,
   "metadata": {},
   "outputs": [
    {
     "name": "stdout",
     "output_type": "stream",
     "text": [
      "0.933333333333\n"
     ]
    }
   ],
   "source": [
    "accuracy_ab = accuracy_score(y_test, y_predict_ab)\n",
    "\n",
    "print(accuracy_ab)"
   ]
  },
  {
   "cell_type": "markdown",
   "metadata": {},
   "source": [
    "## f- Use scikit-learn \"Random Forest\" classifier to predict Cancer based on the training/testing datasets that you built in part (b). Then, calculate and report the accuracy of your classifier."
   ]
  },
  {
   "cell_type": "markdown",
   "metadata": {},
   "source": [
    "### Random Forest"
   ]
  },
  {
   "cell_type": "code",
   "execution_count": 17,
   "metadata": {
    "collapsed": true
   },
   "outputs": [],
   "source": [
    "# Importing RandomForestClassifier\n",
    "from sklearn.ensemble import RandomForestClassifier\n",
    "\n",
    "my_randomforest = RandomForestClassifier(n_estimators=19, bootstrap=True, random_state=2)"
   ]
  },
  {
   "cell_type": "markdown",
   "metadata": {},
   "source": [
    "### Training on training set:"
   ]
  },
  {
   "cell_type": "code",
   "execution_count": 18,
   "metadata": {},
   "outputs": [
    {
     "data": {
      "text/plain": [
       "RandomForestClassifier(bootstrap=True, class_weight=None, criterion='gini',\n",
       "            max_depth=None, max_features='auto', max_leaf_nodes=None,\n",
       "            min_impurity_decrease=0.0, min_impurity_split=None,\n",
       "            min_samples_leaf=1, min_samples_split=2,\n",
       "            min_weight_fraction_leaf=0.0, n_estimators=19, n_jobs=1,\n",
       "            oob_score=False, random_state=2, verbose=0, warm_start=False)"
      ]
     },
     "execution_count": 18,
     "metadata": {},
     "output_type": "execute_result"
    }
   ],
   "source": [
    "# Training only on the training set using the method \"fit\" \n",
    "# of the object along with training dataset and labels to train the model.\n",
    "my_randomforest.fit(X_train, y_train)"
   ]
  },
  {
   "cell_type": "markdown",
   "metadata": {},
   "source": [
    "### Testing on testing set:"
   ]
  },
  {
   "cell_type": "code",
   "execution_count": 19,
   "metadata": {},
   "outputs": [
    {
     "name": "stdout",
     "output_type": "stream",
     "text": [
      "[0 1 1 1 1 1 1 1 0 1 1 1 1 1 1 1 0 1 0 1 0 0 0 0 1 1 0 0 0 1 0 1 1 0 1 1 1\n",
      " 1 1 0 1 1 0 1 1]\n"
     ]
    }
   ],
   "source": [
    "# Testing on the testing set:\n",
    "y_predict_rf = my_randomforest.predict(X_test)\n",
    "\n",
    "print(y_predict_rf)"
   ]
  },
  {
   "cell_type": "markdown",
   "metadata": {},
   "source": [
    "### RandomForest accuracy evaluation:"
   ]
  },
  {
   "cell_type": "code",
   "execution_count": 20,
   "metadata": {},
   "outputs": [
    {
     "name": "stdout",
     "output_type": "stream",
     "text": [
      "0.955555555556\n"
     ]
    }
   ],
   "source": [
    "accuracy_rf = accuracy_score(y_test, y_predict_rf)\n",
    "\n",
    "print(accuracy_rf)"
   ]
  }
 ],
 "metadata": {
  "kernelspec": {
   "display_name": "Python 3",
   "language": "python",
   "name": "python3"
  },
  "language_info": {
   "codemirror_mode": {
    "name": "ipython",
    "version": 3
   },
   "file_extension": ".py",
   "mimetype": "text/x-python",
   "name": "python",
   "nbconvert_exporter": "python",
   "pygments_lexer": "ipython3",
   "version": "3.6.2"
  }
 },
 "nbformat": 4,
 "nbformat_minor": 2
}
